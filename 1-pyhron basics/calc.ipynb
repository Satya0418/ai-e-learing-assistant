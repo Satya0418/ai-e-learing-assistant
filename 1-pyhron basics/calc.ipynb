{
 "cells": [
  {
   "cell_type": "code",
   "execution_count": 1,
   "id": "3615e33c",
   "metadata": {},
   "outputs": [
    {
     "name": "stdout",
     "output_type": "stream",
     "text": [
      "sum: 2.0\n",
      "difference: 0.0\n",
      "product : 1.0\n",
      "quotient: 1.0\n"
     ]
    }
   ],
   "source": [
    "#normal calculator\n",
    "num1 = float(input(\"enter a number:\"))\n",
    "num2 = float(input(\"enter a number:\"))\n",
    "\n",
    "sum = num1 + num2\n",
    "difference = num1 - num2\n",
    "product = num1 * num2\n",
    "quotient = num1 / num2\n",
    "\n",
    "print(\"sum:\",sum)\n",
    "print(\"difference:\",difference)\n",
    "print(\"product :\",product )\n",
    "print(\"quotient:\",quotient)"
   ]
  }
 ],
 "metadata": {
  "kernelspec": {
   "display_name": "Python 3",
   "language": "python",
   "name": "python3"
  },
  "language_info": {
   "codemirror_mode": {
    "name": "ipython",
    "version": 3
   },
   "file_extension": ".py",
   "mimetype": "text/x-python",
   "name": "python",
   "nbconvert_exporter": "python",
   "pygments_lexer": "ipython3",
   "version": "3.12.11"
  }
 },
 "nbformat": 4,
 "nbformat_minor": 5
}
